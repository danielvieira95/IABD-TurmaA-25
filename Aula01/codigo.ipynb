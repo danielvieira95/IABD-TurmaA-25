{
 "cells": [
  {
   "cell_type": "markdown",
   "id": "825ddbb5",
   "metadata": {},
   "source": [
    "Aula 01 - Configuraçao de ambiente Python\n"
   ]
  },
  {
   "cell_type": "code",
   "execution_count": 1,
   "id": "164c3ac8",
   "metadata": {},
   "outputs": [
    {
     "name": "stdout",
     "output_type": "stream",
     "text": [
      "Inteligencia Artificial e Big Data\n"
     ]
    }
   ],
   "source": [
    "print(\"Inteligencia Artificial e Big Data\")"
   ]
  },
  {
   "cell_type": "code",
   "execution_count": null,
   "id": "4bf25b6e",
   "metadata": {},
   "outputs": [],
   "source": [
    "# instalação biblioteca pandas\n",
    "!pip install pandas"
   ]
  },
  {
   "cell_type": "code",
   "execution_count": 4,
   "id": "cbc745d7",
   "metadata": {},
   "outputs": [],
   "source": [
    "#importar a biblioteca pandas\n",
    "\n",
    "import pandas as pd # importa a biblioteca pandas e chama ela como pd\n"
   ]
  },
  {
   "cell_type": "code",
   "execution_count": 5,
   "id": "55acb245",
   "metadata": {},
   "outputs": [
    {
     "name": "stdout",
     "output_type": "stream",
     "text": [
      "          A  B   C\n",
      "1ª Linha  1 -3   0\n",
      "2ª Linha  2 -2  10\n",
      "3ª Linha  3 -1  20\n"
     ]
    }
   ],
   "source": [
    "# Criando um dicionario no Python\n",
    "Dicionario = {\n",
    "    'A':[1,2,3],\n",
    "    'B':[-3,-2,-1],\n",
    "    'C':[0,10,20]\n",
    "}\n",
    "# Criando um index para as linhas do dicionario\n",
    "Label =['1ª Linha','2ª Linha','3ª Linha']\n",
    "\n",
    "# Criando o DataFrame\n",
    "DataFrame_01 = pd.DataFrame(Dicionario,index=Label)\n",
    "print(DataFrame_01)"
   ]
  }
 ],
 "metadata": {
  "kernelspec": {
   "display_name": "Python 3",
   "language": "python",
   "name": "python3"
  },
  "language_info": {
   "codemirror_mode": {
    "name": "ipython",
    "version": 3
   },
   "file_extension": ".py",
   "mimetype": "text/x-python",
   "name": "python",
   "nbconvert_exporter": "python",
   "pygments_lexer": "ipython3",
   "version": "3.11.8"
  }
 },
 "nbformat": 4,
 "nbformat_minor": 5
}
